{
 "cells": [
  {
   "cell_type": "code",
   "execution_count": 4,
   "id": "c2f48955-dd9d-416c-8e01-b33a53a4e625",
   "metadata": {},
   "outputs": [],
   "source": [
    "def burrowWheelerTransform(t):\n",
    "    ''' given string t, return Burrow-Wheeler transformed string'''\n",
    "    # add $ \n",
    "    t = t + \"$\"\n",
    "    # rotation\n",
    "    rotation = []\n",
    "    for i in range(len(t)):\n",
    "        rotation.append(t[i:] + t[:i])\n",
    "    # sort the rotation list lexicographically\n",
    "    rotation.sort()\n",
    "    # take the last column as the Burrow-Wheeler transformed string\n",
    "    bwt = \"\"\n",
    "    for i in range(len(rotation)):\n",
    "        bwt += rotation[i][-1]\n",
    "    return bwt"
   ]
  },
  {
   "cell_type": "code",
   "execution_count": 18,
   "id": "7795193c-c93c-4dad-b6c9-2a9eda827ba6",
   "metadata": {
    "tags": []
   },
   "outputs": [],
   "source": [
    "import numpy.testing as np_test\n",
    "np_test.assert_equal(burrowWheelerTransform(\"abaaba\"), \"abba$aa\")"
   ]
  },
  {
   "cell_type": "code",
   "execution_count": 75,
   "id": "cd96ef61-974d-4783-b5d6-76dff0ae890d",
   "metadata": {},
   "outputs": [],
   "source": [
    "def suffixArray(t):\n",
    "    ''' given string t, return its suffix array'''\n",
    "    t = t + \"$\"\n",
    "    sa = []\n",
    "    for i in range(len(t)):\n",
    "        sa.append((t[i:],i))\n",
    "    return sorted(sa)\n",
    "def bwaBySa(t):\n",
    "    ''' given string t, return Burrow-Wheeler transformed string from the suffix array'''\n",
    "    bwt = ''\n",
    "    for i in suffixArray(t):\n",
    "        if i[1] == 0:\n",
    "            bwt += \"$\"\n",
    "        else:\n",
    "            bwt += t[i[1]-1]\n",
    "    return bwt"
   ]
  },
  {
   "cell_type": "code",
   "execution_count": 28,
   "id": "0fb0b306-f1bf-4b56-a2eb-567648f7eb46",
   "metadata": {
    "collapsed": true,
    "jupyter": {
     "outputs_hidden": true
    },
    "tags": []
   },
   "outputs": [
    {
     "data": {
      "text/plain": [
       "'abba$aa'"
      ]
     },
     "execution_count": 28,
     "metadata": {},
     "output_type": "execute_result"
    }
   ],
   "source": [
    "suffixArray(\"abaaba\")\n",
    "bwaBySa(\"abaaba\")"
   ]
  },
  {
   "cell_type": "code",
   "execution_count": null,
   "id": "7a406efa-5558-44b4-a3a6-e20af5d61a8d",
   "metadata": {},
   "outputs": [],
   "source": [
    "def readFastq(filename):\n",
    "    sequences = []\n",
    "    qualities = []\n",
    "    with open(filename) as fh:\n",
    "        while True:\n",
    "            fh.readline() # skip the name line\n",
    "            #seq = fh.readline().rstrip() # read base sequence\n",
    "            fh.readline() # skip placeholder line\n",
    "            #qual = fh.readline().rstrip() # base quality line\n",
    "            if len(seq) == 0:\n",
    "                break\n",
    "            sequences.append(seq)\n",
    "            qualities.append(qual)\n",
    "    return sequences\n",
    "seqs = readFastq(\"ads1_week4_reads.fq\")"
   ]
  },
  {
   "cell_type": "code",
   "execution_count": 98,
   "id": "666ac616-dd81-4e06-99c0-1a206858ac2f",
   "metadata": {},
   "outputs": [],
   "source": [
    "def readGenome(filename):\n",
    "    genome = ''\n",
    "    with open(filename, 'r') as f:\n",
    "        for line in f:\n",
    "            # ignore header line with genome information\n",
    "            if not line[0] == '>':\n",
    "                genome += line.rstrip()\n",
    "    return genome"
   ]
  },
  {
   "cell_type": "code",
   "execution_count": 99,
   "id": "e6d7acab-0610-426a-8f00-eef12ea006e4",
   "metadata": {},
   "outputs": [
    {
     "name": "stdout",
     "output_type": "stream",
     "text": [
      "CPU times: user 8 µs, sys: 2 µs, total: 10 µs\n",
      "Wall time: 20 µs\n"
     ]
    }
   ],
   "source": [
    "%time\n",
    "a=readGenome(\"/root/work/pythonBase/BMI/ADS/phix.fa\")\n",
    "bwt = burrowWheelerTransform(a)           "
   ]
  },
  {
   "cell_type": "code",
   "execution_count": 100,
   "id": "1ef3f1b6-6283-4312-94e9-2a649cc8bb7e",
   "metadata": {
    "collapsed": true,
    "jupyter": {
     "outputs_hidden": true
    },
    "tags": []
   },
   "outputs": [
    {
     "data": {
      "text/plain": [
       "'ACTCTACCCCCCCTGCGTGGAATGAAAAATATAAGCTGCCATGAAAGAAGATAAATCCCCAAACCACTGGATTGAAAATATTTTTTTTTGCTTTGTTTAACGATTCGATGTCCCCGAAAAATACAAATATTCGATTTTGTGGCATTATCCCGACAAACCTTTTTGTCACACGTGAGTCGTAAAGACATCCCCGACACCCCTAGATACCCTAAAGAAAGAAAACGATCCGTATAACAGGCAACTGCACCCATCGAACCAGGATATGGAAGCCTGGAGAAACACACTGGGGCATTGACTACGAACATGGTTGATCGGGTCATTTCACACATACAAACCCAAAAAGTTAAGTACCATACTCGTTTGTTAGTTTCTGTAGAATATGCGAAGAACTTCATTAACAGGGAAAGACCTAAAGGTCAAGAGAATAATGTTATCTGAAAAGCGGGGGTATCTTGAGAGGTTCGTTGAGCTTAAGTATTTGACATGGGTAAGCGGAAAACTCTGGGGTTGGTGAGCAATGGACTCAACAGTGGGTAGAGCTGTCGAAGGGGAATATTACGACGTCCATGCTGTTACGATCCTCCGAGGTATTCGGCTGCTTTATTTACTGCTGTGGTGTAATGTTTGGCAGGTGTTCAGGCCGTAATGTACCGTGGTAAGCAAAGCAACGGACGCGACGCCCACTTACCAAGGCTAGAATAAAAATTTCCGAAGGGCCGGGGGGAGAAGCCAAAACGACTGAAGCAAAACAGGGGGCTCGCAAAACAAAAAAAAAAAGGGCTGCATCCCAAAGTAATGAAAAAACATTGGAAGGGACAGACGACGGGGCACGGGCAGTAGCCAAAAGATCAGCGCCTGCGCGCCGGATGCGCGAGAGTGCACACGGCCAAAACTAGCACAGGTAGGCCTGGATGGGGTGAGATACGCGGGTCGGGTTAAAGCAGTAAAGAGTAGTGGAGGTGGCGGGTGAATCACTAACAAATAACATAAACAATTATTCAATTCCTTTCCATAAACCATTTACAGTCTGGAATCACTACAAAGAAGGGCTGGGTGCCTTCAAGGAATCTATGTACCGATTTCTCGTAAGCGAGGAGGTAAATAGCTGGGATCAATTTTCTTCCGATAGAGTTTTGTCAGTTATAACTAAGTGTATGTTGCTTTGTATGTTGTTTATAAGGGTAGGGTCATCGGCTACCGGCTCCGCCATTGGGGCTGTTTTGTGTACGCGGTGGTTCTTATGTTGGAAAGAAAGCCCGTCATTATTGGACCGATCCTAATTGTTACCTATAGTTCGTTTATGGAGTTCTTTGACAACCCTTTTGTTTACGTTTTAAGCGCGGCCTTCCGTTGGCCTTGTTGGTCGAATTAGGCACGACCACAAGTGTCTACACAGTGATATCGTTTTCAACGCCAATCAGTGATGGAGCTGTACATTCGTTTACGTGTAGCGTGGTAGTGGTACTTTGTATTCTGATCCCGTCGCCCGTCGTTTCATACGACTGCTTCCCTCTTCTTGGTTTCTAAACGGTTGCATCTCTGGATGAAACAATGGTTCACTAAAAAACCCAGATATGAGGTATTATAGAGTGGGCGCTGAAATGGCTACCTCTTGTTACTTGTGGCTTCTATAACTAAAGAAGACAAGCGGGTCGCGTGAGAGATAGGTAGGAGGTGAGGGGAAGGGGTAGGGTTTACTCAAGAGTGGTTGTGAGGACTCCCTGCAAGCGGCCGTCGTTCAGTTTGCCAATTCGATGGACACGTTGCGATAGATTAATATACGCCTAAGCCGATGGACGCGCCCGAATCTCCTCTCGATCTCCGCACGATAGCCTTATAAACGGATACCTGTACTTTGCCATAAGTCAAAGAACCGCATTAGCGATCTATCACTCGTGGGGCTCGACCATATCTCGGTTCCAAGGGATGCTATATGATCTGAGGGGGCCAACTGCCCGGGGTGTTGCTTCTTCCTGACGTTGATGTCCTGGTTTATAATGCGATGTAGTATTCCAAACAATGGGACGCGCAGCGAAACGGGTCATAAGACGATGGGGATCGCATTCATGTCGGTTGTCGGCGTGAGGATGGCTAATGTTCCTAGCAATGCGTATTGTAGGGAATAGGATGTATTTCGGCCTATCGCTGCATACTGAGATTGAGCGGATGGGGACACGGCTGCGCGAGGTAAGGTGGGAAACGTAATAACCCAGGGCTGTTCGCTAGGGGCATGGTTGTGTTAAGGACTACATGGATTCGGGATAGGGGGGATGGTGGTGGGGGGGCTTTTGGTAGTAAAATTTGCTCTAATTGGCCGTGCCCTGCTAGGGGAGGTCTGAAGGTGCTTGAAATTTGGAGCAGGGCGTGATCAATCGAGGCGAGTCATTATAGGACTCGGCTCTCTGATTTGGTGAAGGTGACATCGCATTGCGAGAGGGTATATGGAGGACCGGAGGTAGCGAGAGATATGTGTGAATAAGAAGCTCCAAAGTTGTCTCAAAAAGTAAATATATTCGTTTCTTGTATGCTTATTTTACATTCTCCTATTACGTCGTTTTTTTCGCTTGTATATTTCCCTTACTTACCGGGGCTTCTCGGTGATACCGTTTTAACTCCAAAATAATTTTCCGAGTTATTTTGGACCTTTAGTTCGCTTTCTTTTTTGTGGTTTGTT$CTTTTGCGTTTCGTGGCTAATTGACTTGGTGTGAGTCTGTAAATGTTTTCTATAAATTGTTTTTTGCGGTCTTAATCTATACAGAAAGAAATAGGTTGTTCTCTTATACTCGTGTCCCGGCCTTGGGGGGTACCCACTCCACTTTATCCTCGCAGGTGTGACCCTACCGGCCTCCTTCCGCCCTTACTCTTATTCGTATCTCATTATCCTGCCACTTCTTGCGTTGGTGCCGATGTCTGGTCCGTCTGGATTAGGGTGGCTGTTCGACAGGTACCGAATAGTTCTAATAATGCCCTCAGAGTTCGGCGATTCAATCTCCTGTTTTTATTGATTTACTTCTCGGCCGAGTATCCCCGCTTCTTATCTTTTCTGTAGTCTGTTCTTAGAATTTTGTTAATAAGCGATAATTTTTTGCGCTGCGTGTTATAGTTTTTGCTCATCTGCCTCGTCGCATAATTATTCTTATCTGTATTAAATTAGATTTTAACAATTGAAACGTTATAATTATCTCTATGTCTTTTGATTTACCATATCTTTTTCCTTTTATATTTATTGATTAATAATATTTAAACTTTATGAAAAATGTTCCTAGAAACAATTTAGACACTATTGTAATACATCTTTATCTCTTTGGTTTTTTTAGTATGATATCTTTTATCTATTTTCACTGCAATCATGCTTTTGTATTTTTATTTATTTTATTGGGGGCAGGTGCAGCTGGCGCTGCTGTTGAGCCGTCACTGACGGTCTGGGGGAATGCGCTCCCAATCCAGCAGGTCTTACCACCACGGTCACGTGGGCGCTTGCTATGCTTGACCACCTCGTTTCGATCGCCGAGCCGGGGTTCCGGTCAGGCATGAACACGGTTCCGTATAGGTGCTATGGCAAGAGCTATGAGCGGTATACGGAGCGCCGGTGTTCTTCATATGTTATAGCCGTGCCCCCGTGCGTGCCTGTTCTTCCCAGCCCTGGTTGAGAACTTGTCGCCCATTGCTGGGGTCTTCACTAGTTATACTCTGAGACCTAGCGCAGGTAACATCTCATTCTGCAAGCGCCCCCTTTCACTCTGAATATCTCTAACATACGCTACTATTATTATCTCTCTTACCCTTTTCTAGCGTCAATCCCTCCTGCTCATATCCTTTCATGCATAGTATTGTGGGTTAAGGTGCTTTTCATCTACTTCCCCCCTAGTCTATTTGATGTGTGGACCTGTAGGATTACCCTGTTCGTTTTTCGCTGTTTGTACGTTCCTTATCCAGGGTTTTTATAGCGATGTTTTGGTGATTCTGTCGTGTGCGATTTTCTACTAACACCCGTACGAAGAATATTTCGCTAAGCGCAGGTCTTACGATGTTGGATATCAGGTTGTCCTGATGTCGCGCATATGTGAATTGTTGAATGATGTCTCTCTAATTGCATTTATCTGTTCAATGCTCCTTTTCTACTTACTCCAAGTTGGTCCGCACGTTTTTCTCTTTCCGCATGAGATCTGATTTGCAACTCTGCATCACTTGTGAACTTTTGTGTTGTATAGGCGTGCTTTCCGGGACTTAGGGGGCTCCTTGCGGATTCGAATCTTGGTCCTTTCATTTTATTTGAAGTTATCTTTACTTTTTTTAATTTATCCTCCGTTGTTTCGTTACTACCATACACGGTGAAGCGCTAATTTCATCACCACTTTTCACTATTCCGAGCACCATCATTTCCGGATTTATACTACAACAGTACCATATTTCCGGCACAACATTATTAGTTCCCACTGTCGTTCCGTTACGCTCACGGAAAGGACAGAGAGTCTACATCAAGATATTTTCACCACATCTTATAGTCACCCCAAGTATCTTAAAATGAAGTTTTCTCAAATTCGTTCGCAGCCCGACCTGGGACTTTTTATTTCTACATGTAGACTCCTACTCTGAAAACGATACATATAGCAATGTCCTTTAAATGGGTTAGTTTACGCGATGGGCCGCTCTCTCTAAGCTATCAGTTCTGCAACCCAAAGCTCAAGCCATCTTCTAACCCTTCTCAACAACGTACAAGTCATCTTATTAGAAGCCCATTATCCATCACAAAATCTCACGGCGAATTATGCTCGCCAGCGCATATTTTACCATCCACTAAATGATTTACCAACTCAGTCGAAGGGGATCTACACAACCTCGGCGATTTTGCTGAAATTTGGTACAACGTGCGGACTCTTATCGGCGCAGGGCCTTGTTAAACTAGTTCAATTCTGTAATTGACCGCCTTGGAAAAAGGGTGAAAACTGTAAAATAAGGGGCTGTTACCCTTTCCTCTCCGTTTTGCCCGTTCACCGTATAGGTGTCCCCTCGACTGGGTCTTTTGCTTTTACTCTTTCCCTTGTGCTCGAAACTGGTTCCCCGTTACCTTATAGGAGGGTAAGTTTTCAGATAGGCATCGTTGGCCTGAGTAAGTCTTTGCCAGTCCCATCAGCACCAAAACCCAAGACCTGTCTGTTACCTAGTAAGCCCTATATTGCTTGGGAGTTACTTCGTTTTACCGCTTGATTAGGATTTTCGGAGCTTGGGTGTACGGTTGAGTATGGTTGCGGACGTTGACACGCTTAAAGCCGCATTGATATGGTATGACTGCTACCTGTAATTTCCCAGAGTCTCTGGGAGTAACTTCATAAAAGATTGGTTCTGTGGCAATGGGCTAACGTTGGAGTAGAGTCCATGATACTAC'"
      ]
     },
     "execution_count": 100,
     "metadata": {},
     "output_type": "execute_result"
    }
   ],
   "source": [
    "bwt"
   ]
  },
  {
   "cell_type": "code",
   "execution_count": 2,
   "id": "8417cbbc-862f-4c24-aa95-ee94df00d39b",
   "metadata": {},
   "outputs": [],
   "source": [
    "def trank(bwt):\n",
    "    '''Given Burrows-Wheeler tranformed string, return\n",
    "    total: a dict with chars(nucleotide) as keys and its total occurences as values\n",
    "    ranks: a list of the char's rank'''\n",
    "    total = dict()\n",
    "    ranks = []\n",
    "    for i in bwt:\n",
    "        if i not in total:\n",
    "            total[i] = 0\n",
    "        ranks.append(total[i])\n",
    "        total[i] += 1\n",
    "    return total, ranks"
   ]
  },
  {
   "cell_type": "code",
   "execution_count": 10,
   "id": "4888cec1-2dd9-4ef5-978c-165df883c922",
   "metadata": {},
   "outputs": [],
   "source": [
    "def startPos(total):\n",
    "    '''Given total: a dict with chars(nucleotide) as keys and its total occurences as values,\n",
    "    return the postion of each char in the F column (i.e. sorted bwt) where it first occurs'''\n",
    "    start_pos = dict()\n",
    "    sorted_char = sorted(total)\n",
    "    start_pos[sorted_char[0]] = 0\n",
    "    for i in range(1,len(sorted_char)):\n",
    "        start_pos[sorted_char[i]] = total[sorted_char[i-1]] +  start_pos[sorted_char[i-1]]\n",
    "    return start_pos\n",
    "\n",
    "# startPos only has the start position, we want to have start and end\n",
    "def charRange(total):\n",
    "    '''Given total: a dict with chars(nucleotide) as keys and its total occurences as values,\n",
    "    return the postion of each char in the F column (i.e. sorted bwt) in which range it occurs (a range\n",
    "    with right closed, left open)'''\n",
    "    char_range = dict()\n",
    "    pos = 0\n",
    "    for char, count in sorted(total.items()):\n",
    "        char_range[char] = (pos,pos + count)\n",
    "        pos += count\n",
    "    return char_range"
   ]
  },
  {
   "cell_type": "code",
   "execution_count": 5,
   "id": "f5cac15a-abc9-49cf-a76a-bf12ca201b48",
   "metadata": {},
   "outputs": [],
   "source": [
    "bwt = burrowWheelerTransform(\"abaaba\") #\"abba$aa\"\n",
    "totals, ranks = trank(bwt)"
   ]
  },
  {
   "cell_type": "code",
   "execution_count": 6,
   "id": "d90f88e6-034d-4213-a576-4984038bf662",
   "metadata": {
    "tags": []
   },
   "outputs": [
    {
     "data": {
      "text/plain": [
       "{'a': 4, 'b': 2, '$': 1}"
      ]
     },
     "execution_count": 6,
     "metadata": {},
     "output_type": "execute_result"
    }
   ],
   "source": [
    "totals"
   ]
  },
  {
   "cell_type": "code",
   "execution_count": 9,
   "id": "9083ed15-0444-4b99-bc6a-501ea2df021c",
   "metadata": {},
   "outputs": [
    {
     "data": {
      "text/plain": [
       "{'$': 0, 'a': 1, 'b': 5}"
      ]
     },
     "execution_count": 9,
     "metadata": {},
     "output_type": "execute_result"
    }
   ],
   "source": [
    "startPos(totals)"
   ]
  },
  {
   "cell_type": "code",
   "execution_count": 43,
   "id": "c1aaa028-8166-42b1-a3c2-44b45b98cfd0",
   "metadata": {},
   "outputs": [
    {
     "data": {
      "text/plain": [
       "{'$': (0, 1), 'a': (1, 5), 'b': (5, 7)}"
      ]
     },
     "execution_count": 43,
     "metadata": {},
     "output_type": "execute_result"
    }
   ],
   "source": [
    "charRange(totals)"
   ]
  },
  {
   "cell_type": "code",
   "execution_count": null,
   "id": "b22a4239-1e2d-44ee-86f0-9afd1dd6ff4d",
   "metadata": {},
   "outputs": [],
   "source": [
    "def findFPos(Lpos,char,ranks,start_pos):\n",
    "    '''Given the pos in the L col (Lpos) and char, with ranks from trank() and start_pos\n",
    "    from startPos(), return a list next_pos which is the pos in the F col that matches\n",
    "    the char in the L col(like traceback)'''\n",
    "    next_pos = []\n",
    "    for p in Lpos:\n",
    "        # ranks[p]: the rank we can jump; start_pos: the char we can jump\n",
    "        next_pos.append(ranks[p]+start_pos[char])\n",
    "    return next_pos"
   ]
  },
  {
   "cell_type": "code",
   "execution_count": 17,
   "id": "df75b33d-9b63-4883-8934-8e3db84edc00",
   "metadata": {
    "jupyter": {
     "source_hidden": true
    },
    "tags": []
   },
   "outputs": [],
   "source": [
    "# def traceback(bwt):\n",
    "#     '''Given Burrows-Wheeler tranformed string bwt, return\n",
    "#     the origin sequence'''\n",
    "#     origin_seq = \"\"\n",
    "#     # from bwt get the first char (just sorting it)\n",
    "#     #first_col = sorted(bwt)\n",
    "#     # get the rank\n",
    "#     total, ranks = trank(bwt)\n",
    "#     start_pos = startPos(total)\n",
    "#     # start from $ (first row)\n",
    "#     #F = first_col[0]\n",
    "#     L = bwt[0]\n",
    "#     origin_seq += L\n",
    "#     pos = 0\n",
    "#     while L != \"$\":\n",
    "#         # ranks[pos]: the rank we can jump; start_pos[L]: the char we can jump\n",
    "#         # add them we get the new pos to traceback\n",
    "#         pos = start_pos[L] + ranks[pos]\n",
    "#         L = bwt[pos]\n",
    "#         origin_seq += L\n",
    "#     return origin_seq"
   ]
  },
  {
   "cell_type": "code",
   "execution_count": 19,
   "id": "979608fe-658d-4e3e-9989-80f9855d8493",
   "metadata": {
    "tags": []
   },
   "outputs": [],
   "source": [
    "# now rewrite traceback with charRange (replace startPos)\n",
    "def traceback(bwt):\n",
    "    '''Given Burrows-Wheeler tranformed string bwt, return\n",
    "    the origin sequence'''\n",
    "    origin_seq = \"\"\n",
    "    # from bwt get the first char (just sorting it)\n",
    "    #first_col = sorted(bwt)\n",
    "    # get the rank\n",
    "    total, ranks = trank(bwt)\n",
    "    char_range = charRange(total)\n",
    "    # start from $ (first row)\n",
    "    #F = first_col[0]\n",
    "    L = bwt[0]\n",
    "    origin_seq += L\n",
    "    pos = 0\n",
    "    while L != \"$\":\n",
    "        # ranks[pos]: the rank we can jump; char_range[L][0] : the char we can jump\n",
    "        # add them we get the new pos to traceback\n",
    "        pos = char_range[L][0] + ranks[pos]\n",
    "        L = bwt[pos]\n",
    "        origin_seq += L\n",
    "    return origin_seq"
   ]
  },
  {
   "cell_type": "code",
   "execution_count": 18,
   "id": "5448964c-0b90-46f3-9385-0c3e3b64b9a2",
   "metadata": {},
   "outputs": [
    {
     "data": {
      "text/plain": [
       "'abaaba$'"
      ]
     },
     "execution_count": 18,
     "metadata": {},
     "output_type": "execute_result"
    }
   ],
   "source": [
    "traceback(\"abba$aa\")"
   ]
  },
  {
   "cell_type": "code",
   "execution_count": 69,
   "id": "1e082ce8-063d-4000-a958-cefe32fdb16c",
   "metadata": {
    "jupyter": {
     "source_hidden": true
    },
    "tags": []
   },
   "outputs": [],
   "source": [
    "# def query(seq, bwt):\n",
    "#     ''' Given sequence to be queried and Burrows-Wheeler tranformed string bwt,\n",
    "#     return the position that seq occur in the origin string (-1 for not found)'''\n",
    "#     # get the F col\n",
    "#     Fcol = sorted(bwt)\n",
    "#     # get the rank\n",
    "#     total, ranks = trank(bwt)\n",
    "#     # get the startpos\n",
    "#     start_pos = startPos(total) \n",
    "    \n",
    "#     # start from the last char in seq\n",
    "#     first_char = seq[-1]\n",
    "#     # check whether char in the ref string first\n",
    "#     if first_char in total and seq[-2] in total:\n",
    "#         pos = start_pos[first_char]\n",
    "#         # we want to find the next pos matches\n",
    "#         next_pos = []\n",
    "#         while first_char == Fcol[pos]:\n",
    "#             if bwt[pos] == seq[-2]:\n",
    "#                 next_pos.append(pos)\n",
    "#             pos += 1\n",
    "#             if pos == len(bwt):\n",
    "#                 break\n",
    "#     else: return -1 \n",
    "#     # if not found, return -1\n",
    "#     if next_pos == []:\n",
    "#         return -1\n",
    "\n",
    "#     # for the remaining char, we do not need to search all start with last char,\n",
    "#     # but only next_pos we get\n",
    "#     for i in range(len(seq)-2, 0, -1):\n",
    "#         now_char = seq[i]\n",
    "#         next_char = seq[i-1]\n",
    "#         # if next_char not in ref string, return -1\n",
    "#         if next_char not in total:\n",
    "#             return -1\n",
    "#         # use new_pos to record the new next pos\n",
    "#         new_pos = []\n",
    "#         for p in next_pos:\n",
    "#             newp = ranks[p] + start_pos[now_char]\n",
    "#             if bwt[newp] == next_char:\n",
    "#                 new_pos.append(newp)\n",
    "#         # if not found, return -1\n",
    "#         if new_pos == []:\n",
    "#             return -1\n",
    "#         next_pos = new_pos.copy() # update next_pos with copy\n",
    "#     out_pos = []\n",
    "#     for p in next_pos:\n",
    "#         outp = ranks[p] + start_pos[next_char]\n",
    "#         out_pos.append(outp)\n",
    "#     return out_pos"
   ]
  },
  {
   "cell_type": "code",
   "execution_count": 20,
   "id": "355ba1aa-3faa-48e1-8f53-a9bbd06261e2",
   "metadata": {
    "jupyter": {
     "source_hidden": true
    },
    "tags": []
   },
   "outputs": [],
   "source": [
    "# rewrite query with charRange (replace startPos)\n",
    "def query(seq, bwt):\n",
    "    ''' Given sequence to be queried and Burrows-Wheeler tranformed string bwt,\n",
    "    return the position that seq occur in the origin string (-1 for not found)'''\n",
    "    # get the F col\n",
    "    Fcol = sorted(bwt)\n",
    "    # get the rank\n",
    "    total, ranks = trank(bwt)\n",
    "    # get the start and end pos of each char\n",
    "    char_range = charRange(total) \n",
    "    \n",
    "    # start from the last char in seq\n",
    "    first_char = seq[-1]\n",
    "    # check whether char in the ref string first\n",
    "    if first_char in total and seq[-2] in total:\n",
    "        pos = char_range[first_char][0]\n",
    "        # we want to find the next pos matches\n",
    "        next_pos = []\n",
    "        while first_char == Fcol[pos]:\n",
    "            if bwt[pos] == seq[-2]:\n",
    "                next_pos.append(pos)\n",
    "            pos += 1\n",
    "            if pos == len(bwt):\n",
    "                break\n",
    "    else: return -1 \n",
    "    # if not found, return -1\n",
    "    if next_pos == []:\n",
    "        return -1\n",
    "\n",
    "    # for the remaining char, we do not need to search all start with last char,\n",
    "    # but only next_pos we get\n",
    "    for i in range(len(seq)-2, 0, -1):\n",
    "        now_char = seq[i]\n",
    "        next_char = seq[i-1]\n",
    "        # if next_char not in ref string, return -1\n",
    "        if next_char not in total:\n",
    "            return -1\n",
    "        # use new_pos to record the new next pos\n",
    "        new_pos = []\n",
    "        for p in next_pos:\n",
    "            newp = ranks[p] + char_range[now_char][0]\n",
    "            if bwt[newp] == next_char:\n",
    "                new_pos.append(newp)\n",
    "        # if not found, return -1\n",
    "        if new_pos == []:\n",
    "            return -1\n",
    "        next_pos = new_pos.copy() # update next_pos with copy\n",
    "    out_pos = []\n",
    "    for p in next_pos:\n",
    "        outp = ranks[p] + char_range[next_char][0]\n",
    "        out_pos.append(outp)\n",
    "    return out_pos"
   ]
  },
  {
   "cell_type": "code",
   "execution_count": 24,
   "id": "f7b5824b-d831-45ee-b26d-2dc295036087",
   "metadata": {},
   "outputs": [
    {
     "data": {
      "text/plain": [
       "[4]"
      ]
     },
     "execution_count": 24,
     "metadata": {},
     "output_type": "execute_result"
    }
   ],
   "source": [
    "query(\"abaaba\",burrowWheelerTransform(\"abaaba\"))"
   ]
  },
  {
   "cell_type": "code",
   "execution_count": 67,
   "id": "c3a823fd-c0a9-40ec-b0ee-b7514c781389",
   "metadata": {},
   "outputs": [
    {
     "data": {
      "text/plain": [
       "'abba$aa'"
      ]
     },
     "execution_count": 67,
     "metadata": {},
     "output_type": "execute_result"
    }
   ],
   "source": [
    "burrowWheelerTransform(\"abaaba\")"
   ]
  },
  {
   "cell_type": "code",
   "execution_count": 28,
   "id": "19fd16ad-358c-457b-b7bb-5cf1ff23ecfe",
   "metadata": {},
   "outputs": [],
   "source": [
    "# Scanning for preceding character is slow\n",
    "# Solution: pre-calculate the number of char in L col in each row --- tally\n",
    "def generateTally(bwt):\n",
    "    ''' Burrow-Wheeler transformed string, return a dict called all_char_tally,\n",
    "    key: char, value: its count from start to end (a list)'''\n",
    "    tally = dict()\n",
    "    all_char_tally = dict()\n",
    "    for i in bwt:\n",
    "        if i not in tally:\n",
    "            tally[i] = 0\n",
    "            all_char_tally[i] = []\n",
    "    for rowindex, char in enumerate(bwt):\n",
    "        tally[char] += 1\n",
    "        for c in tally.keys():\n",
    "            all_char_tally[c].append(tally[c])\n",
    "    return all_char_tally"
   ]
  },
  {
   "cell_type": "code",
   "execution_count": 29,
   "id": "36a50f43-ddbc-4d29-b6ed-448e8891afc8",
   "metadata": {},
   "outputs": [
    {
     "data": {
      "text/plain": [
       "{'a': [1, 1, 1, 2, 2, 3, 4],\n",
       " 'b': [0, 1, 2, 2, 2, 2, 2],\n",
       " '$': [0, 0, 0, 0, 1, 1, 1]}"
      ]
     },
     "execution_count": 29,
     "metadata": {},
     "output_type": "execute_result"
    }
   ],
   "source": [
    "generateTally(burrowWheelerTransform(\"abaaba\"))"
   ]
  },
  {
   "cell_type": "code",
   "execution_count": 44,
   "id": "8c99e268-1945-40b3-9ff4-527e74ff5822",
   "metadata": {},
   "outputs": [],
   "source": [
    "def findNextWithTally(current_range, next_char,tally,char_range):\n",
    "    '''Given the current range (left closed, right open) in the F col and the next char searching for, with the help of tally and char_range,\n",
    "    return the rank of the next char satified (-1 for not found)'''\n",
    "    start = current_range[0] - 1 # need to see on before so that we do not leave out the first char\n",
    "    end = current_range[1] - 1 # right open\n",
    "    if next_char not in tally:\n",
    "        return -1\n",
    "    num_char_found = tally[next_char][end] - tally[next_char][start] # how many next char found\n",
    "    if num_char_found > 0:\n",
    "        rank_start, rank_end = tally[next_char][start], tally[next_char][end]-1\n",
    "        return [char_range[next_char][0]+rank_start, char_range[next_char][0]+rank_end+1] # range is left open, right closed\n",
    "    else:\n",
    "        return -1"
   ]
  },
  {
   "cell_type": "code",
   "execution_count": 64,
   "id": "0c9da706-27b8-4a52-99fc-66a56894865e",
   "metadata": {
    "jupyter": {
     "source_hidden": true
    },
    "tags": []
   },
   "outputs": [],
   "source": [
    "# rewrite query with tally\n",
    "def queryWithTally(seq, bwt):\n",
    "    ''' Given sequence to be queried and Burrows-Wheeler tranformed string bwt,\n",
    "    return the position that seq occur in the origin string (-1 for not found)'''\n",
    "    # get the F col\n",
    "    Fcol = sorted(bwt)\n",
    "    # get the rank\n",
    "    total, ranks = trank(bwt)\n",
    "    # get the start and end pos of each char\n",
    "    char_range = charRange(total) \n",
    "    # get the tally for all chars\n",
    "    all_tally = generateTally(bwt)\n",
    "    \n",
    "    # start from the last char in seq\n",
    "    first_char = seq[-1]\n",
    "    # check whether char in the ref string first\n",
    "    if first_char not in total:\n",
    "        return -1\n",
    "    # the range of the first char can be found in char_range\n",
    "    cc_range = [char_range[first_char][0], char_range[first_char][1]]\n",
    "    # length of seq is 1 (uncommon case)\n",
    "    if len(seq) == 1:\n",
    "        return cc_range\n",
    "    # for the remaining char in seq\n",
    "    for i in range(len(seq)-2,-1,-1):\n",
    "        cc_range = findNextWithTally(cc_range, seq[i], all_tally, char_range)\n",
    "        print(seq[i],cc_range)\n",
    "        if cc_range == -1:\n",
    "            return -1 \n",
    "    return cc_range"
   ]
  },
  {
   "cell_type": "code",
   "execution_count": 74,
   "id": "c6cb3728-7545-466c-97f3-4fd630974e1d",
   "metadata": {
    "jupyter": {
     "source_hidden": true
    },
    "tags": []
   },
   "outputs": [
    {
     "data": {
      "text/plain": [
       "[5, 7]"
      ]
     },
     "execution_count": 74,
     "metadata": {},
     "output_type": "execute_result"
    }
   ],
   "source": [
    "queryWithTally(\"c\",burrowWheelerTransform(\"abcabc\"))"
   ]
  },
  {
   "cell_type": "code",
   "execution_count": 106,
   "id": "99c1b4c0-bc2d-4714-823b-81282081145d",
   "metadata": {},
   "outputs": [],
   "source": [
    "# we need suffix array to where the aligned seq is in the origin string\n",
    "def querySA(seq, t):\n",
    "    ''' Given sequence to be queried and origin string t, performing the BWT,\n",
    "    return the position that seq occur in the origin string (-1 for not found)'''\n",
    "    bwt = burrowWheelerTransform(t)\n",
    "    sa = [i[1] for i in suffixArray(t)]\n",
    "    # get the F col\n",
    "    Fcol = sorted(bwt)\n",
    "    # get the rank\n",
    "    total, ranks = trank(bwt)\n",
    "    # get the start and end pos of each char\n",
    "    char_range = charRange(total) \n",
    "    # get the tally for all chars\n",
    "    all_tally = generateTally(bwt)\n",
    "    \n",
    "    # start from the last char in seq\n",
    "    first_char = seq[-1]\n",
    "    # check whether char in the ref string first\n",
    "    if first_char not in total:\n",
    "        return -1\n",
    "    # the range of the first char can be found in char_range\n",
    "    cc_range = [char_range[first_char][0], char_range[first_char][1]]\n",
    "    # length of seq is 1 (uncommon case)\n",
    "    if len(seq) == 1:\n",
    "        return cc_range\n",
    "    # for the remaining char in seq\n",
    "    for i in range(len(seq)-2,-1,-1):\n",
    "        cc_range = findNextWithTally(cc_range, seq[i], all_tally, char_range)\n",
    "        #print(seq[i],cc_range)\n",
    "        if cc_range == -1:\n",
    "            return -1 \n",
    "    return sa[cc_range[0]:cc_range[1]]"
   ]
  },
  {
   "cell_type": "code",
   "execution_count": 110,
   "id": "360c68c0-f381-4bcc-8a17-0fea9dc912bd",
   "metadata": {},
   "outputs": [
    {
     "data": {
      "text/plain": [
       "[5, 1]"
      ]
     },
     "execution_count": 110,
     "metadata": {},
     "output_type": "execute_result"
    }
   ],
   "source": [
    "querySA(\"ba\",\"abacaba\")"
   ]
  },
  {
   "cell_type": "code",
   "execution_count": null,
   "id": "b6c433bb-5a1d-4d76-9b35-00204e13e486",
   "metadata": {},
   "outputs": [
    {
     "name": "stdout",
     "output_type": "stream",
     "text": [
      "CPU times: user 6 µs, sys: 1e+03 ns, total: 7 µs\n",
      "Wall time: 15 µs\n"
     ]
    }
   ],
   "source": [
    "%time\n",
    "a=readGenome(\"data/chr1.GRCh38.excerpt.fasta\")\n",
    "bwt = burrowWheelerTransform(a) "
   ]
  },
  {
   "cell_type": "code",
   "execution_count": 117,
   "id": "93c45604-d3ae-4e93-b0be-1ae120bfb781",
   "metadata": {},
   "outputs": [
    {
     "name": "stdout",
     "output_type": "stream",
     "text": [
      "--2021-12-11 10:13:15--  https://sra-download.ncbi.nlm.nih.gov/traces/sra20/SRR/015102/SRR15465183\n",
      "Connecting to 10.71.115.244:3128... connected.\n",
      "Proxy request sent, awaiting response... 200 OK\n",
      "Length: 39423721 (38M) [application/octet-stream]\n",
      "Saving to: ‘SRR15465183’\n",
      "\n",
      "SRR15465183         100%[===================>]  37.60M  1.92MB/s    in 28s     \n",
      "\n",
      "2021-12-11 10:13:49 (1.34 MB/s) - ‘SRR15465183’ saved [39423721/39423721]\n",
      "\n"
     ]
    }
   ],
   "source": [
    "! wget https://sra-download.ncbi.nlm.nih.gov/traces/sra20/SRR/015102/SRR15465183"
   ]
  },
  {
   "cell_type": "code",
   "execution_count": 116,
   "id": "3708cc2b-03e0-440b-b8e4-696b54d15fbf",
   "metadata": {
    "tags": []
   },
   "outputs": [
    {
     "name": "stdout",
     "output_type": "stream",
     "text": [
      "CPU times: user 11 µs, sys: 0 ns, total: 11 µs\n",
      "Wall time: 20.3 µs\n"
     ]
    },
    {
     "ename": "KeyboardInterrupt",
     "evalue": "",
     "output_type": "error",
     "traceback": [
      "\u001b[0;31m---------------------------------------------------------------------------\u001b[0m",
      "\u001b[0;31mKeyboardInterrupt\u001b[0m                         Traceback (most recent call last)",
      "\u001b[0;32m/tmp/ipykernel_2364/1864750866.py\u001b[0m in \u001b[0;36m<module>\u001b[0;34m\u001b[0m\n\u001b[1;32m      1\u001b[0m \u001b[0mget_ipython\u001b[0m\u001b[0;34m(\u001b[0m\u001b[0;34m)\u001b[0m\u001b[0;34m.\u001b[0m\u001b[0mrun_line_magic\u001b[0m\u001b[0;34m(\u001b[0m\u001b[0;34m'time'\u001b[0m\u001b[0;34m,\u001b[0m \u001b[0;34m''\u001b[0m\u001b[0;34m)\u001b[0m\u001b[0;34m\u001b[0m\u001b[0;34m\u001b[0m\u001b[0m\n\u001b[0;32m----> 2\u001b[0;31m \u001b[0mquerySA\u001b[0m\u001b[0;34m(\u001b[0m\u001b[0;34m\"ATCG\"\u001b[0m\u001b[0;34m,\u001b[0m\u001b[0ma\u001b[0m\u001b[0;34m)\u001b[0m\u001b[0;34m[\u001b[0m\u001b[0;36m1\u001b[0m\u001b[0;34m:\u001b[0m\u001b[0;36m10\u001b[0m\u001b[0;34m]\u001b[0m\u001b[0;34m\u001b[0m\u001b[0;34m\u001b[0m\u001b[0m\n\u001b[0m",
      "\u001b[0;32m/tmp/ipykernel_2364/755828799.py\u001b[0m in \u001b[0;36mquerySA\u001b[0;34m(seq, t)\u001b[0m\n\u001b[1;32m      3\u001b[0m     ''' Given sequence to be queried and origin string t, performing the BWT,\n\u001b[1;32m      4\u001b[0m     return the position that seq occur in the origin string (-1 for not found)'''\n\u001b[0;32m----> 5\u001b[0;31m     \u001b[0mbwt\u001b[0m \u001b[0;34m=\u001b[0m \u001b[0mburrowWheelerTransform\u001b[0m\u001b[0;34m(\u001b[0m\u001b[0mt\u001b[0m\u001b[0;34m)\u001b[0m\u001b[0;34m\u001b[0m\u001b[0;34m\u001b[0m\u001b[0m\n\u001b[0m\u001b[1;32m      6\u001b[0m     \u001b[0msa\u001b[0m \u001b[0;34m=\u001b[0m \u001b[0;34m[\u001b[0m\u001b[0mi\u001b[0m\u001b[0;34m[\u001b[0m\u001b[0;36m1\u001b[0m\u001b[0;34m]\u001b[0m \u001b[0;32mfor\u001b[0m \u001b[0mi\u001b[0m \u001b[0;32min\u001b[0m \u001b[0msuffixArray\u001b[0m\u001b[0;34m(\u001b[0m\u001b[0mt\u001b[0m\u001b[0;34m)\u001b[0m\u001b[0;34m]\u001b[0m\u001b[0;34m\u001b[0m\u001b[0;34m\u001b[0m\u001b[0m\n\u001b[1;32m      7\u001b[0m     \u001b[0;31m# get the F col\u001b[0m\u001b[0;34m\u001b[0m\u001b[0;34m\u001b[0m\u001b[0;34m\u001b[0m\u001b[0m\n",
      "\u001b[0;32m/tmp/ipykernel_2364/1834048694.py\u001b[0m in \u001b[0;36mburrowWheelerTransform\u001b[0;34m(t)\u001b[0m\n\u001b[1;32m      6\u001b[0m     \u001b[0mrotation\u001b[0m \u001b[0;34m=\u001b[0m \u001b[0;34m[\u001b[0m\u001b[0;34m]\u001b[0m\u001b[0;34m\u001b[0m\u001b[0;34m\u001b[0m\u001b[0m\n\u001b[1;32m      7\u001b[0m     \u001b[0;32mfor\u001b[0m \u001b[0mi\u001b[0m \u001b[0;32min\u001b[0m \u001b[0mrange\u001b[0m\u001b[0;34m(\u001b[0m\u001b[0mlen\u001b[0m\u001b[0;34m(\u001b[0m\u001b[0mt\u001b[0m\u001b[0;34m)\u001b[0m\u001b[0;34m)\u001b[0m\u001b[0;34m:\u001b[0m\u001b[0;34m\u001b[0m\u001b[0;34m\u001b[0m\u001b[0m\n\u001b[0;32m----> 8\u001b[0;31m         \u001b[0mrotation\u001b[0m\u001b[0;34m.\u001b[0m\u001b[0mappend\u001b[0m\u001b[0;34m(\u001b[0m\u001b[0mt\u001b[0m\u001b[0;34m[\u001b[0m\u001b[0mi\u001b[0m\u001b[0;34m:\u001b[0m\u001b[0;34m]\u001b[0m \u001b[0;34m+\u001b[0m \u001b[0mt\u001b[0m\u001b[0;34m[\u001b[0m\u001b[0;34m:\u001b[0m\u001b[0mi\u001b[0m\u001b[0;34m]\u001b[0m\u001b[0;34m)\u001b[0m\u001b[0;34m\u001b[0m\u001b[0;34m\u001b[0m\u001b[0m\n\u001b[0m\u001b[1;32m      9\u001b[0m     \u001b[0;31m# sort the rotation list lexicographically\u001b[0m\u001b[0;34m\u001b[0m\u001b[0;34m\u001b[0m\u001b[0;34m\u001b[0m\u001b[0m\n\u001b[1;32m     10\u001b[0m     \u001b[0mrotation\u001b[0m\u001b[0;34m.\u001b[0m\u001b[0msort\u001b[0m\u001b[0;34m(\u001b[0m\u001b[0;34m)\u001b[0m\u001b[0;34m\u001b[0m\u001b[0;34m\u001b[0m\u001b[0m\n",
      "\u001b[0;31mKeyboardInterrupt\u001b[0m: "
     ]
    }
   ],
   "source": [
    "%time\n",
    "querySA(\"ATCG\",a)[1:10]"
   ]
  }
 ],
 "metadata": {
  "kernelspec": {
   "display_name": "Python [conda env:d2l]",
   "language": "python",
   "name": "conda-env-d2l-py"
  },
  "language_info": {
   "codemirror_mode": {
    "name": "ipython",
    "version": 3
   },
   "file_extension": ".py",
   "mimetype": "text/x-python",
   "name": "python",
   "nbconvert_exporter": "python",
   "pygments_lexer": "ipython3",
   "version": "3.8.12"
  }
 },
 "nbformat": 4,
 "nbformat_minor": 5
}
